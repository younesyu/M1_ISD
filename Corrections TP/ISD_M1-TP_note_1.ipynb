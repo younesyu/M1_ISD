{
 "cells": [
  {
   "cell_type": "markdown",
   "metadata": {
    "colab_type": "text",
    "id": "wVKccw3Hih4v"
   },
   "source": [
    "# Introduction à la Science de Données\n",
    "# Contrôle Continu - Epreuve n° 2\n",
    "\n",
    "# TP noté\n",
    "\n",
    "Commencer par remplacer les pointillés par vos noms :\n",
    "## Binome :\n",
    "\n",
    "**Nom :  ** ............................................................. **Prénom :** ........................................................\n",
    "\n",
    "**Nom :  ** ............................................................. **Prénom :** ........................................................\n",
    "\n",
    "\n",
    "Ce sujet est à envoyer par mail à votre reponsable de TP avant 13h30, heure du mail faisant foi. Vous perdez 1 point (sur 20 au total) pour chaque minute de retard. A envoyer à : \n",
    "\n",
    "- Groupe 1 : Valentin.Emiya@univ-amu.fr\n",
    "- Groupe 2 : Remi.Eyraud@univ-amu.fr\n",
    "- Groupe 3 : Hachem.Kadri@univ-amu.fr\n",
    "\n",
    "Avec comme Sujet : **[ISD] TP noté **\n",
    "\n",
    "Vous avez accès à tout : le [site du cours](https://pageperso.lis-lab.fr/~remi.eyraud/WP/?page_id=74), la [documentation de scikit-learn](https://scikit-learn.org/stable/), [google](https://duckduckgo.com/), etc. Mais ne perdez pas de temps : le but est de savoir ce que vous avez appris, donc vous n'avez pas le temps de googler les questions les unes après les autres !\n",
    "\n",
    "On commence par récupérer les données (un fichier CSV) :"
   ]
  },
  {
   "cell_type": "code",
   "execution_count": null,
   "metadata": {
    "colab": {
     "base_uri": "https://localhost:8080/",
     "height": 208
    },
    "colab_type": "code",
    "id": "dNXXc-gJih4y",
    "outputId": "6a83694e-167b-416c-8830-6f9d56a5fab9"
   },
   "outputs": [],
   "source": [
    "! wget pageperso.lif.univ-mrs.fr/~remi.eyraud/ISD/Sloan-RD14.csv"
   ]
  },
  {
   "cell_type": "markdown",
   "metadata": {
    "colab_type": "text",
    "id": "H9VQzmeFih5A"
   },
   "source": [
    "### Question 1\n",
    "Charger les données et les transformer au format scikit-learn."
   ]
  },
  {
   "cell_type": "code",
   "execution_count": null,
   "metadata": {
    "colab": {},
    "colab_type": "code",
    "id": "femDpVNTih5D"
   },
   "outputs": [],
   "source": [
    "import pandas as pd\n",
    "# A vous"
   ]
  },
  {
   "cell_type": "markdown",
   "metadata": {
    "colab_type": "text",
    "id": "FWRZqFdDih5S"
   },
   "source": [
    "Il y a 10000 données, chacune étant décrite par 17 attributs, la colonne *class* contenant la cible à apprendre. Cette classe peut prendre 3 valeurs : GALAXY, STAR, QSA.\n",
    "### Question 2\n",
    "Créer la matrice *X* qui contient toutes les colonnes décrivant les données et le vecteur *y* qui contient les valeurs de la colonne *class*."
   ]
  },
  {
   "cell_type": "code",
   "execution_count": null,
   "metadata": {
    "colab": {},
    "colab_type": "code",
    "id": "QsQqojXJih5T"
   },
   "outputs": [],
   "source": [
    "# A vous"
   ]
  },
  {
   "cell_type": "markdown",
   "metadata": {
    "colab_type": "text",
    "id": "pkVmeLWQih5g"
   },
   "source": [
    "Maintenant que les données sont préparées pour scikit-learn, c'est à vous de jouer ! Le but est d'apprendre un arbre de décision le meilleur possible suivant l'hyper-paramètre *max_depth*."
   ]
  },
  {
   "cell_type": "markdown",
   "metadata": {
    "colab_type": "text",
    "id": "6_Wh6LfXih5i"
   },
   "source": [
    "### Question 4\n",
    "Les découper (prendre 30% pour l'ensemble de test), "
   ]
  },
  {
   "cell_type": "code",
   "execution_count": null,
   "metadata": {
    "colab": {},
    "colab_type": "code",
    "id": "5JgSCIqsih5n"
   },
   "outputs": [],
   "source": [
    "# A vous"
   ]
  },
  {
   "cell_type": "markdown",
   "metadata": {
    "colab_type": "text",
    "id": "UsAcc_kuih51"
   },
   "source": [
    "### Question 5\n",
    "Chercher les meilleures valeurs possibles pour le paramètre *max_depth* :\n",
    "\n",
    "- en tester entre 2 et 20 \n",
    "- réaliser une validation croisée pour chaque valeur\n",
    "- afficher sur une courbe l'évolution de la mesure de qualité en fonction des valeurs du paramètre"
   ]
  },
  {
   "cell_type": "code",
   "execution_count": null,
   "metadata": {
    "colab": {},
    "colab_type": "code",
    "id": "Pm56utCoih56"
   },
   "outputs": [],
   "source": [
    "import numpy as np\n",
    "\n",
    "from sklearn.tree import DecisionTreeClassifier\n",
    "from sklearn.model_selection import cross_val_score\n",
    "\n",
    "import matplotlib.pyplot as plt\n",
    "%matplotlib inline\n",
    "# A vous"
   ]
  },
  {
   "cell_type": "markdown",
   "metadata": {
    "colab_type": "text",
    "id": "Ux4-cdFPih6K"
   },
   "source": [
    "### Question 6\n",
    "Apprenez sur l'ensemble d'apprentissage avec cette valeur optimale, "
   ]
  },
  {
   "cell_type": "code",
   "execution_count": null,
   "metadata": {
    "colab": {},
    "colab_type": "code",
    "id": "kNI81aYoih6L"
   },
   "outputs": [],
   "source": [
    "# A vous"
   ]
  },
  {
   "cell_type": "markdown",
   "metadata": {
    "colab_type": "text",
    "id": "vm40FDf4ih6e"
   },
   "source": [
    "#### Question 7\n",
    "Calculer les mesures de qualité (taux d'erreur et F-score) sur l'ensemble de test  "
   ]
  },
  {
   "cell_type": "code",
   "execution_count": null,
   "metadata": {
    "colab": {},
    "colab_type": "code",
    "id": "rzKmdZtQih6f"
   },
   "outputs": [],
   "source": [
    "# A vous"
   ]
  }
 ],
 "metadata": {
  "colab": {
   "collapsed_sections": [],
   "name": "ISD_M1-TP_note_1.ipynb",
   "provenance": [],
   "version": "0.3.2"
  },
  "kernelspec": {
   "display_name": "Python 3",
   "language": "python",
   "name": "python3"
  },
  "language_info": {
   "codemirror_mode": {
    "name": "ipython",
    "version": 3
   },
   "file_extension": ".py",
   "mimetype": "text/x-python",
   "name": "python",
   "nbconvert_exporter": "python",
   "pygments_lexer": "ipython3",
   "version": "3.6.6"
  }
 },
 "nbformat": 4,
 "nbformat_minor": 1
}

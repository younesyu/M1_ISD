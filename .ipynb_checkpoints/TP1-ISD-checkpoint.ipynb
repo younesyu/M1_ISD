{
 "cells": [
  {
   "cell_type": "markdown",
   "metadata": {},
   "source": [
    "# Introduction à la Science de Données\n",
    "# TP1 - Prise en main de python et de Scikit-Learn\n",
    "\n",
    "## Python\n",
    "\n",
    "Python est un langage de programmation simple, qui peut être interprété dans un shell (terminal) ou via une interface comme celle-ci (on peut même éventuellement compiler du code python). Le plus souvent, nous allons travailler avec des Jupyter Notebook comme celui-ci dans ce cours. Le principe est le suivant : il y a des cellules dans lequel on tape du code (ou du texte, comme ici - double-clicker ici pour voir le code de cette cellule). Un fois le code écrit, on lance la cellule avec le bouton \"Executer\" (ou \"Run\"), en haut au milieu, et le code s'exécute ! Top, non ? \n",
    "\n",
    "On essaie ? *Exécuter* cette cellule pour lui redonner son apparence initiale si vous avez double-clické dessus, puis exécuter la suivante."
   ]
  },
  {
   "cell_type": "code",
   "execution_count": null,
   "metadata": {},
   "outputs": [],
   "source": [
    "print(\"Hello world!\")"
   ]
  },
  {
   "cell_type": "markdown",
   "metadata": {},
   "source": [
    "### Variables et types\n",
    "Vous devez donc avoir compris que *exécuter* une cellule de code affiche le résultat en dessous.\n",
    "\n",
    "On peut écrire du code python comme si on utilisait une calculette (avec des variables). Même si on fera rapidement des choses plus évoluées, on commence par ça (vous pouvez modifier le contenu des cellule et les runner autant de fois que vous voulez) :"
   ]
  },
  {
   "cell_type": "code",
   "execution_count": null,
   "metadata": {},
   "outputs": [],
   "source": [
    "2"
   ]
  },
  {
   "cell_type": "code",
   "execution_count": null,
   "metadata": {},
   "outputs": [],
   "source": [
    "2*2"
   ]
  },
  {
   "cell_type": "code",
   "execution_count": null,
   "metadata": {},
   "outputs": [],
   "source": [
    "a = 2"
   ]
  },
  {
   "cell_type": "code",
   "execution_count": null,
   "metadata": {},
   "outputs": [],
   "source": [
    "a*3"
   ]
  },
  {
   "cell_type": "code",
   "execution_count": null,
   "metadata": {},
   "outputs": [],
   "source": [
    "type(a)"
   ]
  },
  {
   "cell_type": "code",
   "execution_count": null,
   "metadata": {},
   "outputs": [],
   "source": [
    "type(a*0.5)"
   ]
  },
  {
   "cell_type": "code",
   "execution_count": null,
   "metadata": {},
   "outputs": [],
   "source": [
    "b = a*3"
   ]
  },
  {
   "cell_type": "code",
   "execution_count": null,
   "metadata": {},
   "outputs": [],
   "source": [
    "b"
   ]
  },
  {
   "cell_type": "code",
   "execution_count": null,
   "metadata": {},
   "outputs": [],
   "source": [
    "print(b)"
   ]
  },
  {
   "cell_type": "code",
   "execution_count": null,
   "metadata": {},
   "outputs": [],
   "source": [
    "c, d = 3, 4\n",
    "b = 4*c\n",
    "print(a, b, c, d, b/4, \"Vous suivez ?\")"
   ]
  },
  {
   "cell_type": "code",
   "execution_count": null,
   "metadata": {},
   "outputs": [],
   "source": [
    "print(\"Avant : \", a)\n",
    "a += 1\n",
    "print(\"Après : \", a)"
   ]
  },
  {
   "cell_type": "code",
   "execution_count": null,
   "metadata": {},
   "outputs": [],
   "source": [
    "print(2+2)\n",
    "print(\"2\"+\"2\")"
   ]
  },
  {
   "cell_type": "code",
   "execution_count": null,
   "metadata": {},
   "outputs": [],
   "source": [
    "print(2+\"2\")"
   ]
  },
  {
   "cell_type": "markdown",
   "metadata": {},
   "source": [
    "Un type particulier (et central) : les **listes**"
   ]
  },
  {
   "cell_type": "code",
   "execution_count": null,
   "metadata": {},
   "outputs": [],
   "source": [
    "l = [0, 1, 2]    # Definition d'une liste en extension\n",
    "\n",
    "print(type(l))\n",
    "print(len(l))\n",
    "print(l[0])\n",
    "\n",
    "print(\"Plus technique :\")\n",
    "print(l[-1])  # En partant de la fin\n",
    "print(l[:2])  # Un morceau contenant le début\n",
    "print(l[1:])  # Un morceau contenant la fin"
   ]
  },
  {
   "cell_type": "code",
   "execution_count": null,
   "metadata": {},
   "outputs": [],
   "source": [
    "print(l)\n",
    "l[0] = 42\n",
    "l.append(\"éléments de différent types\")\n",
    "print(l)"
   ]
  },
  {
   "cell_type": "markdown",
   "metadata": {},
   "source": [
    "### Structures de controle\n",
    "Comme tout langage de programmation, on peut utiliser des structures de controle en python, comme des boucles ou des conditionnelles. Et comme les autres langages, cela fonctionne par blocks : qu'est-ce qui s'execute si le *if* est vrai ? Qu'est-ce qui s'exécute de toute façon ? Qu'est-ce qui est dans la boucle ? etc.\n",
    "\n",
    "La plupart des langages de programmation que vous connaissez matérialisent les blocks par des caractères spéciaux, souvent une accolade *{* pour le commencer et une autre *}* pour le fermer. Ce n'est pas le cas de python : ce langage matérialise les blocks graphiquement, par des espaces. Il faut 4 espaces pour marquer un block:"
   ]
  },
  {
   "cell_type": "code",
   "execution_count": 1,
   "metadata": {},
   "outputs": [
    {
     "ename": "IndentationError",
     "evalue": "unexpected indent (<ipython-input-1-e84902fc5df4>, line 2)",
     "output_type": "error",
     "traceback": [
      "\u001b[0;36m  File \u001b[0;32m\"<ipython-input-1-e84902fc5df4>\"\u001b[0;36m, line \u001b[0;32m2\u001b[0m\n\u001b[0;31m    print(\"On est dans le if\")\u001b[0m\n\u001b[0m    ^\u001b[0m\n\u001b[0;31mIndentationError\u001b[0m\u001b[0;31m:\u001b[0m unexpected indent\n"
     ]
    }
   ],
   "source": [
    "print(\"On n'est pas dans le if\")     # Ceci -1\n",
    "    print(\"On est dans le if\")\n",
    "    print(\"Là encore\")\n",
    "print(\"Là on n'y est plus\")"
   ]
  },
  {
   "cell_type": "markdown",
   "metadata": {},
   "source": [
    "Et c'est pareil pour les boucles:"
   ]
  },
  {
   "cell_type": "code",
   "execution_count": null,
   "metadata": {},
   "outputs": [],
   "source": [
    "print(\"Avant la boucle\")\n",
    "for i in range(0, 11):\n",
    "    print(\"Tour de boucle numéro\", i)\n",
    "print(\"Après la boucle\")"
   ]
  },
  {
   "cell_type": "markdown",
   "metadata": {},
   "source": [
    "##### Boucle et liste\n",
    "On peut remplir des listes avec des boucles:"
   ]
  },
  {
   "cell_type": "code",
   "execution_count": null,
   "metadata": {},
   "outputs": [],
   "source": [
    "l = []\n",
    "for i in range(10):\n",
    "    l.append(i)\n",
    "print(l)"
   ]
  },
  {
   "cell_type": "markdown",
   "metadata": {},
   "source": [
    "(Mais en fait on n'a même pas besoin de boucle explicite !!!!!) :"
   ]
  },
  {
   "cell_type": "code",
   "execution_count": null,
   "metadata": {},
   "outputs": [],
   "source": [
    "l = [i*2 for i in range(10)]\n",
    "print(l)"
   ]
  },
  {
   "cell_type": "markdown",
   "metadata": {},
   "source": [
    "##### Combinaison\n",
    "Bien entendu, c'est récursif : on peut mettre des blocks dans des blocks qui contiennent des blocks, etc.\n",
    "\n",
    "**Question** Alors, que fait le code ci-dessous ? Que valent a et b à la fin ? "
   ]
  },
  {
   "cell_type": "code",
   "execution_count": null,
   "metadata": {},
   "outputs": [],
   "source": [
    "a, b = 0, 0\n",
    "for i in range(10):\n",
    "    if a % 2 == 0:\n",
    "        a+=i\n",
    "        if b < 5:\n",
    "            a-=i\n",
    "        else:\n",
    "            b+=i\n",
    "    else:\n",
    "        b-=i"
   ]
  },
  {
   "cell_type": "markdown",
   "metadata": {},
   "source": [
    "#### A vous !\n",
    "**Question** Insérez 1 cellules ci-dessous (cliquer ici puis utiliser le menu du haut...). Puis écrivez y le code qui calcule et affiche la somme des 10 premiers entiers au carré."
   ]
  },
  {
   "cell_type": "code",
   "execution_count": 1,
   "metadata": {},
   "outputs": [
    {
     "data": {
      "text/plain": [
       "285"
      ]
     },
     "execution_count": 1,
     "metadata": {},
     "output_type": "execute_result"
    }
   ],
   "source": [
    "sum([i * i for i in range(10)])"
   ]
  },
  {
   "cell_type": "markdown",
   "metadata": {},
   "source": [
    "**Question** Dans la cellule suivante, écrire un code comprenant 1 boucle et 1 conditionelle qui tire un nombre au hasard entre 1 et 100 et qui laisse 10 chances à l'utilisateur pour trouver ce nombre. On utilisera une bibliohèque (on dit *module* en python) qui génère des nombres aléatoire en l'important:"
   ]
  },
  {
   "cell_type": "code",
   "execution_count": 3,
   "metadata": {},
   "outputs": [
    {
     "name": "stdout",
     "output_type": "stream",
     "text": [
      "Entrez un nombre: 26\n",
      "Entrez un nombre: 66\n",
      "Entrez un nombre: 45\n",
      "Entrez un nombre: 1\n",
      "Entrez un nombre: 23\n",
      "Entrez un nombre: 7\n",
      "Entrez un nombre: 49\n",
      "Bravo!!!!\n"
     ]
    }
   ],
   "source": [
    "import random   # On importe le module \n",
    "a_trouver = random.randint(0,100)    # On on génère alétoirement un nombre\n",
    "mon_nombre = input(\"Entrez un nombre: \") # On demande à rentrer un nombre\n",
    "\n",
    "#print(a_trouver, mon_nombre)\n",
    "# A vous de jouer !\n",
    "for i in range(10) :\n",
    "    if (mon_nombre == a_trouver):\n",
    "        print(\"Bravo!!!!\")\n",
    "        break;\n",
    "    else:\n",
    "        mon_nombre = input(\"Entrez un nombre: \") # On demande à rentrer un nombre\n",
    "\n",
    "if (mon_nombre != a_trouver):\n",
    "    print(\"Vous deviez trouver le nombre \" + a_trouver)"
   ]
  },
  {
   "cell_type": "markdown",
   "metadata": {},
   "source": [
    "### Fonctions\n",
    "Bien entendu, il est possible de définir et d'utiliser des fonctions en python:"
   ]
  },
  {
   "cell_type": "code",
   "execution_count": null,
   "metadata": {},
   "outputs": [],
   "source": [
    "def carre(x):\n",
    "    return x*x"
   ]
  },
  {
   "cell_type": "code",
   "execution_count": null,
   "metadata": {},
   "outputs": [],
   "source": [
    "carre(2)"
   ]
  },
  {
   "cell_type": "markdown",
   "metadata": {},
   "source": [
    "Et on peut même renvoyer plusieurs valeurs:"
   ]
  },
  {
   "cell_type": "code",
   "execution_count": 5,
   "metadata": {},
   "outputs": [
    {
     "name": "stdout",
     "output_type": "stream",
     "text": [
      "(6, 7, 8)\n",
      "7\n",
      "(3, 4, 5)\n"
     ]
    }
   ],
   "source": [
    "def trois_suivants(x):\n",
    "    return (x+1, x+2, x+3)\n",
    "S = trois_suivants(5)\n",
    "print(S)\n",
    "print(S[1])\n",
    "\n",
    "#x1, x2, x3 = trois_suivants(2)\n",
    "#print(x1, x2, x3)"
   ]
  },
  {
   "cell_type": "markdown",
   "metadata": {},
   "source": [
    "Attention, un tuple (comme le triplet que retourne cette fonction) n'est pas mutable: il contient une ou des valeurs qui ne sont pas modifiables. "
   ]
  },
  {
   "cell_type": "code",
   "execution_count": null,
   "metadata": {},
   "outputs": [],
   "source": [
    "S[1]=3   # Ceci va donc donner un erreur !"
   ]
  },
  {
   "cell_type": "markdown",
   "metadata": {},
   "source": [
    "Si vous voulez modifier les valeurs, il faut faire une liste:"
   ]
  },
  {
   "cell_type": "code",
   "execution_count": null,
   "metadata": {},
   "outputs": [],
   "source": [
    "L = list(S)\n",
    "print(L)\n",
    "L[1] = 3\n",
    "print(L)\n",
    "print(S)"
   ]
  },
  {
   "cell_type": "markdown",
   "metadata": {},
   "source": [
    "Ou alors, vous récuperez les valeurs de la fonctions dans des variables séparées :"
   ]
  },
  {
   "cell_type": "code",
   "execution_count": null,
   "metadata": {},
   "outputs": [],
   "source": [
    "x_1, x_2, x_3 = trois_suivants(42)\n",
    "print(x_1, x_2, x_3)\n",
    "x_1 = 24\n",
    "print(x_1)"
   ]
  },
  {
   "cell_type": "markdown",
   "metadata": {},
   "source": [
    "## Scikit-Learn\n",
    "Scikit-learn est un logiciel écrit en Python, qui nécessite l'installation préalable du langage  Python et des librairies  *NumPy* et  *SciPy* (pour le calcul scientifique), dans des versions qui doivent vérifier certaines contraintes de compatibilité. Sur votre machine personelle, le plus simple est d'installer une distribution de Python complète, comme Anaconda (https://docs.anaconda.com/anaconda/install/), qui comprend la plupart des librairies courantes développées en Python, dont les trois citées plus haut. Sur les PC de la salle, tout est normalement installé...\n",
    "\n",
    "Le site officiel du logiciel  Scikit-learn est :  http://scikit-learn.org/stable/index.html \n",
    "\n",
    "La documentation en ligne est complète, et devra être consultée chaque fois que nécessaire :\n",
    " \thttp://scikit-learn.org/stable/documentation.html \n",
    "    \n",
    "Des tutoriaux sont disponibles a l'adresse suivante :\n",
    " \thttp://scikit-learn.org/stable/tutorial/index.html\n",
    "\n",
    "### Jeux de données en Scikit-Learn\n",
    "\n",
    "Un certain nombre de jeux de données sont disponibles dans scikit-learn. Il est également possible de générer des données artificielles ou de récupérer des données externes (on fera ça dans les prochains TPs).\n",
    "\n",
    "Documentation relative au chargement de jeux de données :\n",
    "\thttp://scikit-learn.org/stable/datasets/ \n",
    "\n",
    "Les jeux de données disponibles dans scikit-learn sont : iris, boston, diabetes, digits, linnerud, sample images, 20newsgroups.\n",
    "Chacun de ces jeux de données se récupère à l'aide de la commande load_nom-jeu qu'il faut dans un premier temps charger. Par exemple, pour récupérer le jeu iris :"
   ]
  },
  {
   "cell_type": "code",
   "execution_count": null,
   "metadata": {},
   "outputs": [],
   "source": [
    "from sklearn.datasets import load_iris  #importation de la commande\n",
    "irisData = load_iris()"
   ]
  },
  {
   "cell_type": "markdown",
   "metadata": {},
   "source": [
    "On se retrouve alors avec une variable qui contient le jeu de données (ici on l'a appelé *irisData*)\n",
    "\n",
    "Les variables des jeux de données comprennent un certain nombres champs parmi (tous ne sont pas toujours définis) : data, target, target_names, feature_names, DESCR :\n",
    "- *.data* est un tableau de dimensions *(n,m)*. Chacune des *n* lignes correspond à une donnée, chacune des *m* colonnes à un attribut \n",
    "- *.target* stocke les classes (étiquettes/label) de chaque instance (dans le cas supervisé) : c'est un vecteur de taille *n* dont la première valeur est la classe de la donnée de la première ligne de la matrice .data, la deuxième valeur est la classe de la deuxième ligne, etc.\n",
    "- *.target_names* contient le nom des classes\n",
    "- *.feature_names* contient le nom des attributs\n",
    "- *.DESCR* est un texte décrivant le jeu de données."
   ]
  },
  {
   "cell_type": "code",
   "execution_count": null,
   "metadata": {},
   "outputs": [],
   "source": [
    "irisData.data"
   ]
  },
  {
   "cell_type": "code",
   "execution_count": null,
   "metadata": {},
   "outputs": [],
   "source": [
    "irisData.target"
   ]
  },
  {
   "cell_type": "code",
   "execution_count": null,
   "metadata": {},
   "outputs": [],
   "source": [
    "irisData.target_names"
   ]
  },
  {
   "cell_type": "markdown",
   "metadata": {},
   "source": [
    "Noter que le type de tous ces éléments est *array*, un type très utile et central en python pour nous."
   ]
  },
  {
   "cell_type": "markdown",
   "metadata": {},
   "source": [
    "# Le jeu de données Iris (Fisher, 1936)\n",
    "Iris est un ensemble (=jeu) de données introduit en 1936 par R. Fisher comme un exemple d'analyse discriminante. Cet ensemble contient 150 exemples de critères observés sur 3 espèces différentes d'iris de Gaspésie (Setosa, Versicolor, Verginica). Chaque exemple est composé de quatre attributs (longueur et largeur des sépales en cm, longueur et largeur des pétales en cm) et d'une classe (l'espèce).\n",
    "\n",
    "**Question.** Exécutez **une à une** les commandes suivantes et comprenez ce qu'elles réalisent (vous aurez à les réutiliser)."
   ]
  },
  {
   "cell_type": "code",
   "execution_count": 37,
   "metadata": {},
   "outputs": [
    {
     "data": {
      "text/plain": [
       "array([[5.1, 3.5, 1.4, 0.2],\n",
       "       [4.9, 3. , 1.4, 0.2],\n",
       "       [4.7, 3.2, 1.3, 0.2],\n",
       "       [4.6, 3.1, 1.5, 0.2],\n",
       "       [5. , 3.6, 1.4, 0.2],\n",
       "       [5.4, 3.9, 1.7, 0.4],\n",
       "       [4.6, 3.4, 1.4, 0.3],\n",
       "       [5. , 3.4, 1.5, 0.2],\n",
       "       [4.4, 2.9, 1.4, 0.2],\n",
       "       [4.9, 3.1, 1.5, 0.1],\n",
       "       [5.4, 3.7, 1.5, 0.2],\n",
       "       [4.8, 3.4, 1.6, 0.2],\n",
       "       [4.8, 3. , 1.4, 0.1],\n",
       "       [4.3, 3. , 1.1, 0.1],\n",
       "       [5.8, 4. , 1.2, 0.2],\n",
       "       [5.7, 4.4, 1.5, 0.4],\n",
       "       [5.4, 3.9, 1.3, 0.4],\n",
       "       [5.1, 3.5, 1.4, 0.3],\n",
       "       [5.7, 3.8, 1.7, 0.3],\n",
       "       [5.1, 3.8, 1.5, 0.3],\n",
       "       [5.4, 3.4, 1.7, 0.2],\n",
       "       [5.1, 3.7, 1.5, 0.4],\n",
       "       [4.6, 3.6, 1. , 0.2],\n",
       "       [5.1, 3.3, 1.7, 0.5],\n",
       "       [4.8, 3.4, 1.9, 0.2],\n",
       "       [5. , 3. , 1.6, 0.2],\n",
       "       [5. , 3.4, 1.6, 0.4],\n",
       "       [5.2, 3.5, 1.5, 0.2],\n",
       "       [5.2, 3.4, 1.4, 0.2],\n",
       "       [4.7, 3.2, 1.6, 0.2],\n",
       "       [4.8, 3.1, 1.6, 0.2],\n",
       "       [5.4, 3.4, 1.5, 0.4],\n",
       "       [5.2, 4.1, 1.5, 0.1],\n",
       "       [5.5, 4.2, 1.4, 0.2],\n",
       "       [4.9, 3.1, 1.5, 0.1],\n",
       "       [5. , 3.2, 1.2, 0.2],\n",
       "       [5.5, 3.5, 1.3, 0.2],\n",
       "       [4.9, 3.1, 1.5, 0.1],\n",
       "       [4.4, 3. , 1.3, 0.2],\n",
       "       [5.1, 3.4, 1.5, 0.2],\n",
       "       [5. , 3.5, 1.3, 0.3],\n",
       "       [4.5, 2.3, 1.3, 0.3],\n",
       "       [4.4, 3.2, 1.3, 0.2],\n",
       "       [5. , 3.5, 1.6, 0.6],\n",
       "       [5.1, 3.8, 1.9, 0.4],\n",
       "       [4.8, 3. , 1.4, 0.3],\n",
       "       [5.1, 3.8, 1.6, 0.2],\n",
       "       [4.6, 3.2, 1.4, 0.2],\n",
       "       [5.3, 3.7, 1.5, 0.2],\n",
       "       [5. , 3.3, 1.4, 0.2]])"
      ]
     },
     "execution_count": 37,
     "metadata": {},
     "output_type": "execute_result"
    }
   ],
   "source": [
    "from sklearn.datasets import load_iris  #importation de la commande\n",
    "irisData = load_iris()\n",
    "\n",
    "len(irisData.data)\n",
    "irisData.target_names[0]\n",
    "irisData.target_names[2]\n",
    "irisData.target_names[-1]\n",
    "irisData.target_names[len(irisData.target_names) - 1]\n",
    "irisData.data.shape\n",
    "irisData.data[0]\n",
    "irisData.data[0][1]\n",
    "irisData.data[:,1]    # Celle-ci, il faut vraiment la comprendre !\n",
    "irisData.data[irisData.target==0]    # Et celle-ci aussi !!!"
   ]
  },
  {
   "cell_type": "markdown",
   "metadata": {},
   "source": [
    "Vous avez eu une erreur ? Pourquoi ? Refléchissez...\n",
    "\n",
    "Et assurez vous de tester toutes les lignes, quite à créer de nouvelles cellules (ou à mettre en commentaire les lignes déjà testées, ou qui génèrent des erreurs)"
   ]
  },
  {
   "cell_type": "markdown",
   "metadata": {},
   "source": [
    "##### Visualiser les données\n",
    "SciKitLearn  intègre la librairie matplotlib  (http://matplotlib.org/) qui propose de très nombreuses primitives permettant de faire des dessins, et la librairie pylab, qui intègre les librairies NumPy, SciPy  et Matplotlib .\n",
    "\n",
    "Exécutez les commandes suivantes et comprenez ce qu'elles réalisent :"
   ]
  },
  {
   "cell_type": "code",
   "execution_count": 38,
   "metadata": {},
   "outputs": [
    {
     "name": "stderr",
     "output_type": "stream",
     "text": [
      "/usr/lib/python2.7/dist-packages/matplotlib/font_manager.py:273: UserWarning: Matplotlib is building the font cache using fc-list. This may take a moment.\n",
      "  warnings.warn('Matplotlib is building the font cache using fc-list. This may take a moment.')\n"
     ]
    },
    {
     "data": {
      "image/png": "[encoded data removed]",
      "text/plain": [
       "<matplotlib.figure.Figure at 0x7f68a70c4b90>"
      ]
     },
     "metadata": {},
     "output_type": "display_data"
    }
   ],
   "source": [
    "# Commande uniquement Notebook : permet l'affichage des courbes :\n",
    "%matplotlib inline     \n",
    "\n",
    "import matplotlib.pyplot as plt        #permet d'importer 'pyplot' et de remplacer son nom par 'plt'\n",
    "X = irisData.data\n",
    "Color = irisData.target\n",
    "abscisse = 0\n",
    "ordonnee = 1\n",
    "\n",
    "plt.scatter(X[:, abscisse], X[:, ordonnee], c=Color)   # Définition des abscisses et des ordonnées, ainsi que de la couleur\n",
    "plt.show()    # Affichage de la courbe"
   ]
  },
  {
   "cell_type": "markdown",
   "metadata": {},
   "source": [
    "C'est bien mais pas super : il manque de l'information pour être une vraie courbe. On améliore :"
   ]
  },
  {
   "cell_type": "code",
   "execution_count": 46,
   "metadata": {
    "scrolled": true
   },
   "outputs": [
    {
     "data": {
      "image/png": "[encoded data removed]",
      "text/plain": [
       "<matplotlib.figure.Figure at 0x7f68a39c60d0>"
      ]
     },
     "metadata": {},
     "output_type": "display_data"
    }
   ],
   "source": [
    "# Commande uniquement Notebook : permet l'affichage des courbes :\n",
    "%matplotlib inline     \n",
    "\n",
    "import matplotlib.pyplot as plt        #permet d'importer 'pyplot' et de remplacer son nom par 'plt'\n",
    "X = irisData.data\n",
    "Color = irisData.target\n",
    "abscisse = 0\n",
    "ordonnee = 1\n",
    "\n",
    "plt.xlabel(irisData.feature_names[abscisse])    # Nomage de l'axe des abscisses\n",
    "plt.ylabel(irisData.feature_names[ordonnee])    # Nomage de l'axe des ordonnées   \n",
    "plt.title(\"Donnees Iris - Dimensions des sepales uniquement\") # Et il faut un titre\n",
    "\n",
    "plt.scatter(X[:, abscisse], X[:, ordonnee], c=Color)   # Re-éfinition des abscisses, ordonnées, et couleurs\n",
    "plt.show()\n"
   ]
  },
  {
   "cell_type": "markdown",
   "metadata": {},
   "source": [
    "ça commence à ressembler à quelque chose, non ? Reste 2 petits problèmes : il manque la légende pour expliquer le code couleur, et les couleurs ne sont pas très belles (ça c'est une question de goût, mais quand même). Voilà un façon (un peu différente) d'y remédier :"
   ]
  },
  {
   "cell_type": "code",
   "execution_count": 60,
   "metadata": {},
   "outputs": [
    {
     "data": {
      "image/png": "[encoded data removed]",
      "text/plain": [
       "<matplotlib.figure.Figure at 0x7f68b5725d10>"
      ]
     },
     "metadata": {},
     "output_type": "display_data"
    }
   ],
   "source": [
    "# Commande uniquement Notebook : permet l'affichage des courbes :\n",
    "%matplotlib inline     \n",
    "\n",
    "import matplotlib.pyplot as plt        #permet d'importer 'pyplot' et de remplacer son nom par 'plt'\n",
    "\n",
    "y = irisData.target\n",
    "colors=[\"yellow\",\"grey\",\"brown\"]\n",
    "differentes_target = set(irisData.target)    # Enlève les doublons\n",
    "for i in differentes_target:\n",
    "\tplt.scatter(X[y==i][:, abscisse],X[y==i][:,ordonnee],color=colors[i], label=irisData.target_names[i])\n",
    "plt.legend()\n",
    "plt.xlabel(irisData.feature_names[abscisse])\n",
    "plt.ylabel(irisData.feature_names[ordonnee])\n",
    "plt.title(\"Donnees Iris - dimensions des sepales uniquement\")\n",
    "plt.show()"
   ]
  },
  {
   "cell_type": "markdown",
   "metadata": {},
   "source": [
    "**Question.** Les données iris sont décrites par 4 attributs. Il y a 6 manières d'en regarder 2. En modifiant le code ci-dessus, déterminez visuellement le couple d'attributs qui semble le mieux a même de discriminer les 3 classes d'iris."
   ]
  },
  {
   "cell_type": "code",
   "execution_count": 61,
   "metadata": {},
   "outputs": [
    {
     "data": {
      "image/png": "[encoded data removed]",
      "text/plain": [
       "<matplotlib.figure.Figure at 0x7f68a38f6ad0>"
      ]
     },
     "metadata": {},
     "output_type": "display_data"
    }
   ],
   "source": [
    "# A vous\n",
    "%matplotlib inline     \n",
    "\n",
    "import matplotlib.pyplot as plt        #permet d'importer 'pyplot' et de remplacer son nom par 'plt'\n",
    "\n",
    "y = irisData.target\n",
    "colors=[\"yellow\",\"grey\",\"brown\"]\n",
    "differentes_target = set(irisData.target)    # Enlève les doublons\n",
    "for i in differentes_target:\n",
    "\tplt.scatter(X[y==i][:, abscisse],X[y==i][:,ordonnee],color=colors[i], label=irisData.target_names[i])\n",
    "plt.legend()\n",
    "plt.xlabel(irisData.feature_names[abscisse])\n",
    "plt.ylabel(irisData.feature_names[ordonnee])\n",
    "plt.title(\"Donnees Iris - dimensions des sepales uniquement\")\n",
    "plt.show()"
   ]
  },
  {
   "cell_type": "markdown",
   "metadata": {},
   "source": [
    "##### Extraire des statistiques des données\n",
    "Un autre type de données est très utile : les dictionnaires. Alors qu'une liste est indéxée par des entiers positifs, un dictionnaire peut être indexé par (presque) tout :"
   ]
  },
  {
   "cell_type": "code",
   "execution_count": 49,
   "metadata": {},
   "outputs": [
    {
     "name": "stdout",
     "output_type": "stream",
     "text": [
      "['Ready Player One', 'Magnolia']\n",
      "('Les cl\\xc3\\xa9s : ', ['duree', 42, 'film'])\n",
      "('Les valeurs : ', [[120, 90], ['et', 'oui'], ['Ready Player One', 'Magnolia']])\n",
      "('A la fin : ', {'duree': [120, 90], 42: ['et', 'oui'], 'film': ['Ready Player One', 'Magnolia', 'Les valseuses'], 'Annee': 2018})\n"
     ]
    }
   ],
   "source": [
    "d = {}    # Création d'un dictionnaire vide\n",
    "d = {\"film\":[\"Ready Player One\", \"Magnolia\"], \"duree\": [120, 90], 42:[\"et\", \"oui\"] }\n",
    "print(d[\"film\"])\n",
    "print(\"Les clés : \", d.keys())\n",
    "print(\"Les valeurs : \", d.values())\n",
    "d[\"film\"].append(\"Les valseuses\")\n",
    "d[\"Annee\"]=2018\n",
    "print(\"A la fin : \", d)"
   ]
  },
  {
   "cell_type": "markdown",
   "metadata": {},
   "source": [
    "**Question.** En lisant les données une par une, remplir un dictionnaire *dico* dont les clés sont : \"petal_length\", \"petal_width\", \"sepal_length\", \"sepal_width\""
   ]
  },
  {
   "cell_type": "code",
   "execution_count": 50,
   "metadata": {},
   "outputs": [],
   "source": [
    "# A vous"
   ]
  },
  {
   "cell_type": "markdown",
   "metadata": {},
   "source": [
    "**Question.** Ecrire une fonction display_stat qui prend en entrée un dictionnaire avec les clés de la question précédente et renvoi les statistiques 'moyenne', 'valeur max', 'valeur min', et 'déviation standard' pour chacun des 4 attributs. Ces fonctions sont toutes déjà définies dans le module numpy. Le résultat pourra se présenter sous la forme d'un tableau :\n",
    "\n",
    "| Attribut | min | max | moyenne | std |\n",
    "| --- | --- | --- | --- | --- |\n",
    "| petal_length | 5.00 | 7.00 | 6 .00 | 1.00 |\n",
    "| petal_width | 6 .00 | 8.00 | 7.00 | 1.00 |\n",
    "| sepal_length | 1.00 | 3.00 | 2 .00 | 1.00 |\n",
    "| sepal_width | 2.00 |4.00 | 3.00 | 1.00 |\n"
   ]
  },
  {
   "cell_type": "code",
   "execution_count": null,
   "metadata": {},
   "outputs": [],
   "source": [
    "import numpy as np\n",
    "# A vous"
   ]
  },
  {
   "cell_type": "markdown",
   "metadata": {},
   "source": [
    "**Question.** Utiliser cette fonction sur les données pour chacune des classes. Pour cela, il pourrait être utile de créer un dictionaire par classe..."
   ]
  },
  {
   "cell_type": "code",
   "execution_count": null,
   "metadata": {},
   "outputs": [],
   "source": [
    "# A vous"
   ]
  }
 ],
 "metadata": {
  "kernelspec": {
   "display_name": "Python 2",
   "language": "python",
   "name": "python2"
  },
  "language_info": {
   "codemirror_mode": {
    "name": "ipython",
    "version": 2
   },
   "file_extension": ".py",
   "mimetype": "text/x-python",
   "name": "python",
   "nbconvert_exporter": "python",
   "pygments_lexer": "ipython2",
   "version": "2.7.12"
  }
 },
 "nbformat": 4,
 "nbformat_minor": 2
}
